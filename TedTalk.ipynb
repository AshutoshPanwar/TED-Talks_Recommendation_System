{
 "cells": [
  {
   "cell_type": "code",
   "execution_count": 4,
   "metadata": {},
   "outputs": [
    {
     "name": "stdout",
     "output_type": "stream",
     "text": [
      "                                               title                author  \\\n",
      "0      Climate action needs new frontline leadership  Ozawa Bineshi Albert   \n",
      "1        The dark history of the overthrow of Hawaii         Sydney Iaukea   \n",
      "2     How play can spark new ideas for your business         Martin Reeves   \n",
      "3  Why is China appointing judges to combat clima...     James K. Thornton   \n",
      "4     Cement's carbon problem — and 2 ways to fix it       Mahendra Singhi   \n",
      "\n",
      "             date   views  likes  \\\n",
      "0   December 2021  404000  12000   \n",
      "1   February 2022  214000   6400   \n",
      "2  September 2021  412000  12000   \n",
      "3    October 2021  427000  12000   \n",
      "4    October 2021    2400     72   \n",
      "\n",
      "                                                link  \n",
      "0  https://ted.com/talks/ozawa_bineshi_albert_cli...  \n",
      "1  https://ted.com/talks/sydney_iaukea_the_dark_h...  \n",
      "2  https://ted.com/talks/martin_reeves_how_play_c...  \n",
      "3  https://ted.com/talks/james_k_thornton_why_is_...  \n",
      "4  https://ted.com/talks/mahendra_singhi_cement_s...  \n"
     ]
    }
   ],
   "source": [
    "import pandas as pd\n",
    "\n",
    "# Load your cleaned TED Talks dataset\n",
    "df = pd.read_csv('tedx_dataset.csv')\n",
    "\n",
    "# Display the first few rows to understand its structure\n",
    "print(df.head())\n",
    "\n",
    "# Assuming 'title' and 'details' are suitable for content-based recommendation\n",
    "data = df[['title', 'author', 'date', 'views', 'likes', 'link']]\n"
   ]
  },
  {
   "cell_type": "code",
   "execution_count": 5,
   "metadata": {},
   "outputs": [
    {
     "name": "stderr",
     "output_type": "stream",
     "text": [
      "[nltk_data] Downloading package stopwords to\n",
      "[nltk_data]     /Users/iamashu/nltk_data...\n",
      "[nltk_data]   Package stopwords is already up-to-date!\n"
     ]
    }
   ],
   "source": [
    "import string\n",
    "import nltk\n",
    "from nltk.corpus import stopwords\n",
    "\n",
    "nltk.download('stopwords')\n",
    "\n",
    "def preprocess_text(text):\n",
    "    # Example: Remove punctuation and stopwords\n",
    "    text = text.translate(str.maketrans('', '', string.punctuation))\n",
    "    stopwords_set = set(stopwords.words('english'))\n",
    "    cleaned_text = ' '.join(word for word in text.lower().split() if word not in stopwords_set)\n",
    "    return cleaned_text\n",
    "\n",
    "# Example: Preprocess the 'title' column\n",
    "data['title_cleaned'] = data['title'].apply(preprocess_text)\n"
   ]
  },
  {
   "cell_type": "code",
   "execution_count": 6,
   "metadata": {},
   "outputs": [],
   "source": [
    "from sklearn.feature_extraction.text import TfidfVectorizer\n",
    "\n",
    "vectorizer = TfidfVectorizer(analyzer='word', max_features=1000)\n",
    "tfidf_matrix = vectorizer.fit_transform(data['title_cleaned'])\n",
    "\n",
    "# Optionally, convert tfidf_matrix to DataFrame for easier manipulation\n",
    "tfidf_df = pd.DataFrame(tfidf_matrix.toarray(), columns=vectorizer.get_feature_names_out())\n"
   ]
  },
  {
   "cell_type": "code",
   "execution_count": 7,
   "metadata": {},
   "outputs": [],
   "source": [
    "from sklearn.metrics.pairwise import cosine_similarity\n",
    "from scipy.stats import pearsonr\n",
    "\n",
    "def get_similarities(talk_content, tfidf_matrix):\n",
    "    talk_tfidf = vectorizer.transform([talk_content])\n",
    "    cosine_similarities = cosine_similarity(talk_tfidf, tfidf_matrix)\n",
    "    pearson_correlations = [pearsonr(talk_tfidf.toarray().flatten(), tfidf_vector.toarray().flatten())[0]\n",
    "                            for tfidf_vector in tfidf_matrix]\n",
    "\n",
    "    return cosine_similarities[0], pearson_correlations\n",
    "\n",
    "def recommend_talks(talk_content, data, tfidf_matrix):\n",
    "    cosine_similarities, pearson_correlations = get_similarities(talk_content, tfidf_matrix)\n",
    "\n",
    "    # Combine similarities with original data\n",
    "    data['cosine_similarity'] = cosine_similarities\n",
    "    data['pearson_correlation'] = pearson_correlations\n",
    "\n",
    "    # Sort by similarities\n",
    "    recommended_talks = data.sort_values(by=['cosine_similarity', 'pearson_correlation'], ascending=[False, False])\n",
    "\n",
    "    return recommended_talks[['title', 'author', 'date', 'views', 'likes', 'link']]\n",
    "\n",
    "\n"
   ]
  },
  {
   "cell_type": "code",
   "execution_count": 8,
   "metadata": {},
   "outputs": [
    {
     "name": "stderr",
     "output_type": "stream",
     "text": [
      "/Users/iamashu/opt/miniconda3/envs/tensorflow/lib/python3.9/site-packages/scipy/stats/_stats_py.py:4424: ConstantInputWarning: An input array is constant; the correlation coefficient is not defined.\n",
      "  warnings.warn(stats.ConstantInputWarning(msg))\n"
     ]
    },
    {
     "name": "stdout",
     "output_type": "stream",
     "text": [
      "                                                  title               author  \\\n",
      "365   3 strategies for effectively talking about cli...        John Marshall   \n",
      "3552            The emergent patterns of climate change        Gavin Schmidt   \n",
      "4724        How cognitive surplus will change the world          Clay Shirky   \n",
      "1519  An app that predicts the impact of global clim...  Sarvesh Subramanian   \n",
      "3011           How do carbohydrates impact your health?      Richard J. Wood   \n",
      "...                                                 ...                  ...   \n",
      "5378                              In praise of slowness          Carl Honoré   \n",
      "5388                    Dreams from endangered cultures           Wade Davis   \n",
      "5413                  The freakonomics of crack dealing        Steven Levitt   \n",
      "5437                                Greening the ghetto        Majora Carter   \n",
      "5438                                   Simplicity sells          David Pogue   \n",
      "\n",
      "               date    views   likes  \\\n",
      "365      March 2021  1200000   37000   \n",
      "3552     March 2014  1300000   40000   \n",
      "4724      June 2010  1000000   32000   \n",
      "1519     March 2019    42000    1200   \n",
      "3011   January 2016  4900000  147000   \n",
      "...             ...      ...     ...   \n",
      "5378      July 2005  3200000   98000   \n",
      "5388  February 2003  4600000  139000   \n",
      "5413  February 2004  4200000  127000   \n",
      "5437  February 2006  2900000   88000   \n",
      "5438  February 2006  2000000   60000   \n",
      "\n",
      "                                                   link  \n",
      "365   https://ted.com/talks/john_marshall_3_strategi...  \n",
      "3552  https://ted.com/talks/gavin_schmidt_the_emerge...  \n",
      "4724  https://ted.com/talks/clay_shirky_how_cognitiv...  \n",
      "1519  https://ted.com/talks/sarvesh_subramanian_an_a...  \n",
      "3011  https://ted.com/talks/richard_j_wood_how_do_ca...  \n",
      "...                                                 ...  \n",
      "5378  https://ted.com/talks/carl_honore_in_praise_of...  \n",
      "5388  https://ted.com/talks/wade_davis_dreams_from_e...  \n",
      "5413  https://ted.com/talks/steven_levitt_the_freako...  \n",
      "5437  https://ted.com/talks/majora_carter_greening_t...  \n",
      "5438  https://ted.com/talks/david_pogue_simplicity_s...  \n",
      "\n",
      "[5440 rows x 6 columns]\n"
     ]
    }
   ],
   "source": [
    "talk_content = 'Climate change and impact on the health\\\n",
    ". How can we change this world by reducing carbon footprints?'\n",
    "recommendations = recommend_talks(talk_content, data, tfidf_matrix)\n",
    "print(recommendations)\n"
   ]
  },
  {
   "cell_type": "code",
   "execution_count": null,
   "metadata": {},
   "outputs": [],
   "source": []
  }
 ],
 "metadata": {
  "kernelspec": {
   "display_name": "tensorflow",
   "language": "python",
   "name": "python3"
  },
  "language_info": {
   "codemirror_mode": {
    "name": "ipython",
    "version": 3
   },
   "file_extension": ".py",
   "mimetype": "text/x-python",
   "name": "python",
   "nbconvert_exporter": "python",
   "pygments_lexer": "ipython3",
   "version": "3.9.13"
  }
 },
 "nbformat": 4,
 "nbformat_minor": 2
}
